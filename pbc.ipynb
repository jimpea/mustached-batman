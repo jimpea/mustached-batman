{
  "cells": [
    {
      "cell_type": "markdown",
      "metadata": {
        "id": "view-in-github",
        "colab_type": "text"
      },
      "source": [
        "<a href=\"https://colab.research.google.com/github/jimpea/mustached-batman/blob/master/pbc.ipynb\" target=\"_parent\"><img src=\"https://colab.research.google.com/assets/colab-badge.svg\" alt=\"Open In Colab\"/></a>"
      ]
    },
    {
      "cell_type": "markdown",
      "id": "a25f7c83-7b53-421d-8714-2f4216608c71",
      "metadata": {
        "id": "a25f7c83-7b53-421d-8714-2f4216608c71"
      },
      "source": [
        "# PBC\n",
        "\n",
        "Follow this [reference](https://python.plainenglish.io/molecular-dynamics-periodic-boundary-conditions-21f957bbb294) to practice implementation of periodic boundary conditions in Python. To start, use a simple one dimension, unit cell 0 < x <= 1. This has two images:\n",
        "\n",
        "- -1 < x <= 0\n",
        "- 1 < x <= 2\n",
        "\n",
        "The cut-off radius must be set to less than half the unit cell\n",
        "\n",
        "Set up a one dimensional PBC with five points in the unit cell at `[0, 0.2, 0.4, 0.6, 0.8]`.\n",
        "\n",
        "> **Note:** Set a numpy `(m,n)` array to a `(m*n,1)` column vector using `a.reshape(-1, 1)`. See [StackOverflow](https://stackoverflow.com/questions/18691084/what-does-1-mean-in-numpy-reshape).\n",
        "\n",
        "The images are then calculated as:"
      ]
    },
    {
      "cell_type": "code",
      "source": [
        "!pip install celluloid"
      ],
      "metadata": {
        "colab": {
          "base_uri": "https://localhost:8080/"
        },
        "id": "9lOHuPZfL4c5",
        "outputId": "5c3aae4c-9a04-470a-8c98-68b5ca2045dc"
      },
      "id": "9lOHuPZfL4c5",
      "execution_count": 1,
      "outputs": [
        {
          "output_type": "stream",
          "name": "stdout",
          "text": [
            "Collecting celluloid\n",
            "  Downloading celluloid-0.2.0-py3-none-any.whl (5.4 kB)\n",
            "Requirement already satisfied: matplotlib in /usr/local/lib/python3.10/dist-packages (from celluloid) (3.7.1)\n",
            "Requirement already satisfied: contourpy>=1.0.1 in /usr/local/lib/python3.10/dist-packages (from matplotlib->celluloid) (1.1.1)\n",
            "Requirement already satisfied: cycler>=0.10 in /usr/local/lib/python3.10/dist-packages (from matplotlib->celluloid) (0.12.1)\n",
            "Requirement already satisfied: fonttools>=4.22.0 in /usr/local/lib/python3.10/dist-packages (from matplotlib->celluloid) (4.43.1)\n",
            "Requirement already satisfied: kiwisolver>=1.0.1 in /usr/local/lib/python3.10/dist-packages (from matplotlib->celluloid) (1.4.5)\n",
            "Requirement already satisfied: numpy>=1.20 in /usr/local/lib/python3.10/dist-packages (from matplotlib->celluloid) (1.23.5)\n",
            "Requirement already satisfied: packaging>=20.0 in /usr/local/lib/python3.10/dist-packages (from matplotlib->celluloid) (23.2)\n",
            "Requirement already satisfied: pillow>=6.2.0 in /usr/local/lib/python3.10/dist-packages (from matplotlib->celluloid) (9.4.0)\n",
            "Requirement already satisfied: pyparsing>=2.3.1 in /usr/local/lib/python3.10/dist-packages (from matplotlib->celluloid) (3.1.1)\n",
            "Requirement already satisfied: python-dateutil>=2.7 in /usr/local/lib/python3.10/dist-packages (from matplotlib->celluloid) (2.8.2)\n",
            "Requirement already satisfied: six>=1.5 in /usr/local/lib/python3.10/dist-packages (from python-dateutil>=2.7->matplotlib->celluloid) (1.16.0)\n",
            "Installing collected packages: celluloid\n",
            "Successfully installed celluloid-0.2.0\n"
          ]
        }
      ]
    },
    {
      "cell_type": "code",
      "source": [],
      "metadata": {
        "id": "lGXjn1FTMF9u"
      },
      "id": "lGXjn1FTMF9u",
      "execution_count": 1,
      "outputs": []
    },
    {
      "cell_type": "code",
      "execution_count": 2,
      "id": "a69626ab-120f-4944-9d7f-15021b2c45db",
      "metadata": {
        "colab": {
          "base_uri": "https://localhost:8080/"
        },
        "id": "a69626ab-120f-4944-9d7f-15021b2c45db",
        "outputId": "38035a8d-116d-4ff6-9e43-f4011d5de57a"
      },
      "outputs": [
        {
          "output_type": "stream",
          "name": "stdout",
          "text": [
            "[-1.  -0.8 -0.6 -0.4 -0.2]\n",
            "[1.  1.2 1.4 1.6 1.8]\n"
          ]
        }
      ],
      "source": [
        "import numpy as np\n",
        "import random\n",
        "from matplotlib import pyplot as plt\n",
        "from celluloid import Camera\n",
        "\n",
        "atom_x_pos = np.arange(0, 1, 0.2)\n",
        "unit_cell_length = 1\n",
        "\n",
        "for x_shift in [-1, 0, 1]:\n",
        "    if x_shift == 0:\n",
        "        continue\n",
        "    else:\n",
        "        image_atom_x_pos = atom_x_pos + unit_cell_length * x_shift\n",
        "        print(image_atom_x_pos)\n"
      ]
    },
    {
      "cell_type": "code",
      "execution_count": 3,
      "id": "1cb1d305-a413-43e2-93d4-e3ac50aebec2",
      "metadata": {
        "id": "1cb1d305-a413-43e2-93d4-e3ac50aebec2"
      },
      "outputs": [],
      "source": [
        "import random\n",
        "import numpy as np\n",
        "\n",
        "random.seed(10)\n",
        "numAtoms = 10\n",
        "unitCellLength = 10\n",
        "\n",
        "positions = np.random.rand(unitCellLength, 1) * unitCellLength + unitCellLength\n",
        "velocities = (np.random.rand(unitCellLength, 1) - 0.5)\n",
        "\n",
        "iterations = 600\n",
        "timestep = 0.02\n",
        "\n",
        "def check_boundaries(positions, unitCellLength):\n",
        "    #Move positions back into the cell if exceed the cell boundary.\n",
        "    for posVal in range(len(positions)):\n",
        "        for col in [0]:\n",
        "            if positions[posVal, col]  > unitCellLength * 2:\n",
        "                positions[posVal, col] = positions[posVal, col] - unitCellLength\n",
        "            if positions[posVal, col] < unitCellLength:\n",
        "                positions[posVal, col] = positions[posVal, col] + unitCellLength\n",
        "\n",
        "def update_positions(positions, velocities, timestep):\n",
        "    #Update the positions based on the velocities\n",
        "    positions += positions * velocities*timestep\n",
        "\n",
        "def makeImages(positions, unitCellLength):\n",
        "    numParts = len(positions)\n",
        "    allParticles = np.zeros((numParts*3, 1))\n",
        "    iter = -1\n",
        "    while iter < numParts - 1:\n",
        "        iter += 1\n",
        "        allParticles[iter] = positions[iter]\n",
        "    xmult = np.ones((numParts, 1))\n",
        "    for xshift in range(1, -2, -1):\n",
        "        if xshift == 0: continue\n",
        "        else:\n",
        "            tempParticles = positions + xmult*xshift*unitCellLength\n",
        "\n",
        "            for i in range(numParts):\n",
        "                iter += 1\n",
        "                allParticles[iter] = tempParticles[i]\n",
        "    return allParticles\n",
        "\n",
        "r = makeImages(positions, unitCellLength)\n",
        "\n"
      ]
    },
    {
      "cell_type": "code",
      "execution_count": null,
      "id": "ddf83931-6fef-4b99-b8cb-989e51e98b29",
      "metadata": {
        "tags": [],
        "id": "ddf83931-6fef-4b99-b8cb-989e51e98b29"
      },
      "outputs": [],
      "source": [
        "fig = plt.figure()\n",
        "plt.xlim([0,unitCellLength*3])\n",
        "plt.ylim([0,unitCellLength*3])\n",
        "camera = Camera(fig)\n",
        "#colorsList = random.choices(range(1,20), k = len(positions))\n",
        "#colors = colorsList*3\n",
        "colorsUnit = ['b'] * len(positions)\n",
        "colorsOther = ['g'] * len(positions) * 2\n",
        "colors = colorsUnit + colorsOther\n",
        "for i in range(0, iterations):\n",
        "    allAtoms = makeImages(positions, unitCellLength)\n",
        "    plt.scatter(allAtoms[:,0], np.zeros(unitCellLength*3) + 10, c=colors, alpha=0.8)\n",
        "    update_positions(positions, velocities, timestep)\n",
        "    check_boundaries(positions, unitCellLength)\n",
        "    camera.snap()\n",
        "\n",
        "animation = camera.animate()\n",
        "animation.save('pbc_tile_color.gif', writer='pillow', fps=40)\n",
        "\n",
        "\n"
      ]
    },
    {
      "cell_type": "markdown",
      "source": [
        "![pbc](/content/pbc_tile_color.gif)\n"
      ],
      "metadata": {
        "id": "Kcn38glhMcG2"
      },
      "id": "Kcn38glhMcG2"
    },
    {
      "cell_type": "markdown",
      "id": "5e5a61f9-37e8-4f9a-99d4-dd96b2784476",
      "metadata": {
        "id": "5e5a61f9-37e8-4f9a-99d4-dd96b2784476"
      },
      "source": [
        "![pbc](pbc_tile_color.gif)"
      ]
    },
    {
      "cell_type": "code",
      "execution_count": null,
      "id": "3692d2eb-f2be-442f-8e8d-017f9f47570b",
      "metadata": {
        "id": "3692d2eb-f2be-442f-8e8d-017f9f47570b"
      },
      "outputs": [],
      "source": []
    }
  ],
  "metadata": {
    "kernelspec": {
      "display_name": "Python 3 (ipykernel)",
      "language": "python",
      "name": "python3"
    },
    "language_info": {
      "codemirror_mode": {
        "name": "ipython",
        "version": 3
      },
      "file_extension": ".py",
      "mimetype": "text/x-python",
      "name": "python",
      "nbconvert_exporter": "python",
      "pygments_lexer": "ipython3",
      "version": "3.7.16"
    },
    "colab": {
      "provenance": [],
      "include_colab_link": true
    }
  },
  "nbformat": 4,
  "nbformat_minor": 5
}