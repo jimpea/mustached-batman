{
  "nbformat": 4,
  "nbformat_minor": 0,
  "metadata": {
    "colab": {
      "provenance": [],
      "include_colab_link": true
    },
    "kernelspec": {
      "name": "python3",
      "display_name": "Python 3"
    }
  },
  "cells": [
    {
      "cell_type": "markdown",
      "metadata": {
        "id": "view-in-github",
        "colab_type": "text"
      },
      "source": [
        "<a href=\"https://colab.research.google.com/github/jimpea/mustached-batman/blob/master/benerndsen_(5).ipynb\" target=\"_parent\"><img src=\"https://colab.research.google.com/assets/colab-badge.svg\" alt=\"Open In Colab\"/></a>"
      ]
    },
    {
      "cell_type": "markdown",
      "metadata": {
        "id": "wfglinBriiYa"
      },
      "source": []
    },
    {
      "cell_type": "markdown",
      "metadata": {
        "id": "N3dUgztPisVK"
      },
      "source": [
        "# A Students Guide to Data and Error Analysis\n",
        "\n",
        "- Herman J. C. Berendsen\n",
        "\n",
        "This notebook covers the exercises at the end of each chapter"
      ]
    },
    {
      "cell_type": "markdown",
      "metadata": {
        "id": "H-qpvIAii1CY"
      },
      "source": [
        "# 3.1\n",
        "\n",
        "Q: Perform the following operations and give the result with standard deviation. The standard deviations of quantities are indicated by ±; they are\n",
        "independent of each other.\n",
        "\n",
        "- (a) 15.000/(5.0 ± 0.1)\n",
        "- (b) (30.0 ± 0.9)/(5.0 ± 0.2)\n",
        "- (c) log10(1000 ± 2)\n",
        "- (d) (20.0 ± 0.3) exp[−(2.00 ± 0.01)]\n",
        "\n",
        "# A:\n",
        "\n",
        "## part d\n",
        "\n",
        "The equation is of the form $a\\exp{-b}$, the variance of the product is given by:\n",
        "\n",
        "$$var_f = (\\partial f/\\partial a)^2 \\sigma_a^2 + (\\partial f / \\partial b)^2 \\sigma_b^2$$\n",
        "\n",
        "in this case the following partial derivatives were assumed (I checked these with Wolfram Alpha to make sure):\n",
        "\n",
        "$$\\partial f / \\partial a = e^{-b}$$\n",
        "\n",
        "$$\\partial f / \\partial b = -ae^{-b}$$"
      ]
    },
    {
      "cell_type": "code",
      "metadata": {
        "id": "qXZcy0LZs7-q",
        "outputId": "e4d6834b-ba77-4f09-cd56-c770bb4ded30",
        "colab": {
          "base_uri": "https://localhost:8080/"
        }
      },
      "source": [
        "import math\n",
        "import scipy as sp\n",
        "from scipy import stats\n",
        "\n",
        "# a\n",
        "\n",
        "a = 15.000\n",
        "b = 5.0\n",
        "sigma = 0.1\n",
        "\n",
        "resulta = a / b\n",
        "sigmaa = resulta*math.sqrt((0.1 / 5)**2)\n",
        "\n",
        "print(f\"a: result: {resulta:.2f} +/- {sigmaa}\")\n",
        "\n",
        "# b\n",
        "a, siga = 30.0, 0.9\n",
        "b, sigb = 5.0, 0.2\n",
        "resultb = a / b\n",
        "\n",
        "rsig = resultb * math.sqrt((siga/a)**2 + (sigb/b)**2)\n",
        "\n",
        "print(f\"b: result: {resultb:.1f} +/- {rsig:.1f}\")\n",
        "\n",
        "# c\n",
        "a = 1000\n",
        "sig = 2\n",
        "\n",
        "resultc = math.log10(a)\n",
        "rsig = sig/a/math.log(10)\n",
        "\n",
        "print(f\"c: result: {resultc:.3f} +/- {rsig:.3f}\")\n",
        "\n",
        "# d\n",
        "\n",
        "a, siga = 20.0, 0.3\n",
        "b, sigb = 2.00, 0.01\n",
        "resultd = a * math.exp(-b)\n",
        "dfda = math.exp(-b)\n",
        "dfdb = -a * math.exp(-b)\n",
        "rsig = math.sqrt((dfda * siga)**2 + (dfdb*sigb)**2)\n",
        "\n",
        "\n",
        "print(f\"d: result: {resultd:.2f} +/- {rsig:.3f}, **book answer is 0.06**\")\n",
        "\n",
        "# but book also says that:\n",
        "\n",
        "percent_sigma = math.sqrt(1.5**2 + 1**2)\n",
        "\n",
        "# so the sigma should be:\n",
        "\n",
        "book_rsig = resultd * percent_sigma / 100\n",
        "\n",
        "print(f\"book also gives this figure: {rsig:.3f}, which does agree with my calc\")\n",
        "print(\"Note: I should show uncertainty at 2 sig fig. I give the 3 sig fig to allow comparison\")"
      ],
      "execution_count": null,
      "outputs": [
        {
          "output_type": "stream",
          "name": "stdout",
          "text": [
            "a: result: 3.00 +/- 0.06\n",
            "b: result: 6.0 +/- 0.3\n",
            "c: result: 3.000 +/- 0.001\n",
            "d: result: 2.71 +/- 0.049, **book answer is 0.06**\n",
            "book also gives this figure: 0.049, which does agree with my calc\n",
            "Note: I should show uncertainty at 2 sig fig. I give the 3 sig fig to allow comparison\n"
          ]
        }
      ]
    },
    {
      "cell_type": "markdown",
      "metadata": {
        "id": "VK9RIsPkjZzV"
      },
      "source": [
        "# 3.2\n",
        "\n",
        "Q: The half-life time τ1/2 of a first-order chemical reaction is determined at\n",
        "four different temperatures. The temperatures are accurate; the standard\n",
        "uncertainties in τ1/2 are indicated:\n",
        "\n",
        "Temperature (&deg;C) | half-life τ1/2 (s)\n",
        "--------------------|------\n",
        "510 | 2000 ± 100\n",
        "540 | 600 ± 40\n",
        "570 | 240 ± 20\n",
        "600 | 90 ± 10\n",
        "\n",
        "Determine the rate constant k (what unit?) and its standard uncertainty, as\n",
        "well as ln k and its standard uncertainty, at every temperature. Now plot ln k\n",
        "with error bars versus the reciprocal absolute temperature. Also, plot k with\n",
        "appropriate error bars on a logarithmic scale versus the reciprocal absolute\n",
        "temperature. Compare the two plots.\n",
        "\n",
        "A:  This is a first order reaction:\n",
        "\n",
        "$$x = A_0 e^{-kt}$$\n",
        "\n",
        "$$A_{1/2} = A_0e^{-kt_{1/2}}$$\n",
        "\n",
        "$$A_{t/2} / A_0 = 0.5 = e^{-ht_{1/2}}$$\n",
        "\n",
        "$$ ln(1/2) = -kt_{1/2}$$\n",
        "\n",
        "$$k = -ln(1/2) / t_{1/2}$$\n",
        "\n",
        "The standard uncertainty is given by the general statement:\n",
        "\n",
        "$$\\sigma_f^2 =( \\partial{f}/\\partial{x})^2  \\sigma_x^2$$\n",
        "\n",
        "in this case, we take, maxing $x$ stand for $t_{1/2}$ :\n",
        "\n",
        "$$\\partial{f}/\\partial{x} = ln(1/2)/x^2 $$\n",
        "\n",
        "Thus...\n",
        "\n",
        "$$\\sigma_k = \\sqrt{(ln(1/2) /x^2)^2 \\sigma_x^2} = f\\sigma_x/ x$$\n",
        "\n",
        "To calculate the error in $ln(k)$ use:\n",
        "\n",
        "$$\\sigma_f = \\sigma_x / f$$\n"
      ]
    },
    {
      "cell_type": "code",
      "metadata": {
        "id": "i38q6rzB_m9m",
        "outputId": "833c53eb-8c01-42d5-f567-533707ebd2df",
        "colab": {
          "base_uri": "https://localhost:8080/",
          "height": 105
        }
      },
      "source": [
        "thalves = [2000, 600, 240, 90]\n",
        "thsigmas = [100, 40, 20, 10]\n",
        "Ts = [510,540, 570, 600]\n",
        "recTs = [1/T for T in Ts]\n",
        "\n",
        "def k(th):\n",
        "  return -math.log(0.5) / th\n",
        "\n",
        "kvalues = [k(th) for th in thalves]\n",
        "\n",
        "def sigmak(k, thsigma, th):\n",
        "  return   k * thsigma / th\n",
        "  #return math.sqrt((math.log(0.5) / thsigma**2)**2 * thsigma**2)\n",
        "\n",
        "ksigmas = [sigmak(k, thsigma, th) for k, thsigma, th in zip(kvalues, thsigmas, thalves)]\n",
        "\n",
        "lnkvalues = [math.log(k) for k in kvalues]\n",
        "\n",
        "lnksigmas = [sigmak / k for sigmak, k in zip(ksigmas, kvalues)]\n",
        "\n",
        "\n",
        "print(\"(printing k, sigma_k, lnk, sigma_lnk) and percent\")\n",
        "for p in zip(kvalues, ksigmas, lnkvalues, lnksigmas):\n",
        "  print(p, 100 * p[1]/p[0])\n"
      ],
      "execution_count": null,
      "outputs": [
        {
          "output_type": "stream",
          "text": [
            "(printing k, sigma_k, lnk, sigma_lnk) and percent\n",
            "(0.00034657359027997266, 1.7328679513998635e-05, -7.967415380123747, 0.05) 5.000000000000001\n",
            "(0.0011552453009332421, 7.701635339554947e-05, -6.763442575797811, 0.06666666666666667) 6.666666666666667\n",
            "(0.0028881132523331052, 0.0002406761043610921, -5.847151843923656, 0.08333333333333334) 8.333333333333334\n",
            "(0.007701635339554948, 0.0008557372599505498, -4.866322590911929, 0.11111111111111112) 11.11111111111111\n"
          ],
          "name": "stdout"
        }
      ]
    },
    {
      "cell_type": "code",
      "metadata": {
        "id": "OYxT4_WpPJR6",
        "colab": {
          "base_uri": "https://localhost:8080/",
          "height": 585
        },
        "outputId": "ab6d9cfb-0e7e-4a0d-bce1-b8d1ea333edf"
      },
      "source": [
        "from matplotlib import pyplot as plt\n",
        "%matplotlib inline\n",
        "\n",
        "fig, ax = plt.subplots(1,2, figsize= (12, 8))\n",
        "\n",
        "ax[0].scatter(Ts, kvalues, marker=\"o\")\n",
        "#ax.plot(kvalues, recTs, ls=\"\", marker=\"o\")\n",
        "\n",
        "ax[0].errorbar(Ts, kvalues, yerr=ksigmas, label='both limits (default)')\n",
        "\n",
        "ax[1].scatter(recTs, lnkvalues, marker=\"o\")\n",
        "#ax.plot(kvalues, recTs, ls=\"\", marker=\"o\")\n",
        "\n",
        "ax[1].errorbar(recTs, lnkvalues, yerr=lnksigmas, label='both limits (default)')\n",
        "ax[1].set_xlim(0.0016, 0.002)\n",
        "\n",
        "fig.tight_layout()\n"
      ],
      "execution_count": null,
      "outputs": [
        {
          "output_type": "display_data",
          "data": {
            "image/png": "[encoded data removed]",
            "text/plain": [
              "<Figure size 864x576 with 2 Axes>"
            ]
          },
          "metadata": {
            "tags": []
          }
        }
      ]
    },
    {
      "cell_type": "markdown",
      "metadata": {
        "id": "HlDAc5wjpG9b"
      },
      "source": [
        "# 3.3\n",
        "\n",
        "Q: Suppose you determine the acceleration of gravity $g$ by measuring the\n",
        "oscillation period $T$ of a pendulum with length l. The value of $g$ follows\n",
        "from\n",
        "\n",
        "$$g = 4\\pi^2l/T^2$$\n",
        "\n",
        "You measure $T = 2.007 \\pm 0.002 s $ and $l = 1.000 \\pm 0.002 m$. Determine $g$ and its standard uncertainty"
      ]
    },
    {
      "cell_type": "markdown",
      "metadata": {
        "id": "_c5pSCrTMzGd"
      },
      "source": [
        "# 4.1\n",
        "\n",
        "Q: In a lottery 5% of the tickets produce a prize. If I buy ten tickets, what is the probability of winning no prize, 1 prize ... 7. Assume that this is a lottery with replacement, that is the probability of winning a prize does not depend on the number of prozes that I already have.\n",
        "\n",
        "A: This is a binomial process, every draw has a probability of 0.05 to give a prize. The probability of winning $k$ prizes from $n$ draws is:\n",
        "\n",
        "$$f(k, n) = {n \\choose k} p^k(1 - p)^{n - k}$$\n",
        "\n",
        "where:\n",
        "\n",
        "$${n \\choose k} = \\frac{n!}{k! (n-k)!}$$\n",
        "\n",
        "$$mean: \\mu = E[k] = pn$$\n",
        "\n",
        "$$variance: \\sigma^2 = E[(k - \\mu)^2]$$\n",
        "\n",
        "\n",
        "$$sd: \\sigma = \\sqrt{p((1 - p)n}$$\n"
      ]
    },
    {
      "cell_type": "markdown",
      "metadata": {
        "id": "D9wB2i7zaSJ3"
      },
      "source": [
        "# 4.2\n",
        "\n",
        "Q: When it is known that one measurement $x$ has probability of exceeding a given value $x_m$ of 1 percent, what then is the probability that _at least_ one measurement in a series of 20 independent measurements will exceed $x_m$.\n",
        "\n",
        "A: Again, this is a binomial probability distribution and we simply need to calculate the probability of measureing $k = 0$ excess responses in 20 measurements"
      ]
    },
    {
      "cell_type": "code",
      "metadata": {
        "id": "Dz_v9xacbMUm",
        "colab": {
          "base_uri": "https://localhost:8080/"
        },
        "outputId": "75f8191c-11a0-4c1d-d2c2-db9875b78c7b"
      },
      "source": [
        "k = 0\n",
        "p = 0.01\n",
        "n = 20\n",
        "\n",
        "prob = 1 - stats.binom.pmf(k, n, p)\n",
        "print(f\"probability of no excess measurements: {prob}\")\n",
        "print(f\"Note: very close to the expected mean np = {n*p}\")\n",
        "\n"
      ],
      "execution_count": null,
      "outputs": [
        {
          "output_type": "stream",
          "name": "stdout",
          "text": [
            "probability of no excess measurements: 0.18209306240276923\n",
            "Note: very close to the expected mean np = 0.2\n"
          ]
        }
      ]
    },
    {
      "cell_type": "markdown",
      "metadata": {
        "id": "DvEMWqzuchQx"
      },
      "source": [
        "# 4.3\n",
        "\n",
        "Q: There will be elections in which people can select one of two presedential candidates. You want to conduct an opinion poll and predict the outcome with a standard uncertainty of 1 percent. You expect roughly equal votes for either candidate. Assuming that you are able to obtain the opinion of a random unbiased selection of voters, how many people do you have to select, (what should be your sample size).\n",
        "\n",
        "A: This seems like a binomial process with p = 0.5 for a vote for one of the candidates.  We expect each candidate to get half the votes: n/ 2, where n is the total number of votes cast. We wish for a standard deviation of 0.01 * n/2. For a binonial process, the standard deviation is given by:\n",
        "\n",
        "$$sd = \\sqrt{p (1-p) n}$$\n",
        "\n",
        "hence:\n",
        "\n",
        "$$sd = n / 200 $$\n",
        "\n",
        "$$n^2 = 200 p(1-p)n$$\n",
        "\n",
        "$$n = 200 ^2 0.5 (0.5) $$"
      ]
    },
    {
      "cell_type": "code",
      "metadata": {
        "id": "p1V9uXm_C_0m",
        "colab": {
          "base_uri": "https://localhost:8080/"
        },
        "outputId": "be49da0c-434f-44d4-a770-87fe8fb93287"
      },
      "source": [
        "n = 200 * 200 * 0.5 * 0.5\n",
        "print(f\"sample size required for uncertainty of 1% is: {n}\")"
      ],
      "execution_count": null,
      "outputs": [
        {
          "output_type": "stream",
          "name": "stdout",
          "text": [
            "sample size required for uncertainty of 1% is: 10000.0\n"
          ]
        }
      ]
    },
    {
      "cell_type": "markdown",
      "metadata": {
        "id": "gDMNY9PyFXau"
      },
      "source": [
        "# 4.4\n",
        "\n",
        "Q: You observed $n$ independent events, each of which have an outcome of 0 or 1. You count $k_0$ zeros and $k_1$ ones $(k_0 + k_1) = n$\n",
        "\n",
        "- a. What is your best estimate of the probability that a one appears.\n",
        "- b.  Give an estimate for the standard uncertainty in $k_0$.\n",
        "- c. What is the standard uncertainty in $k_1$\n",
        "- d. You are finally interested in the ratio $r = k_1 / k_0$, what is the standard uncertainty in $r$.\n",
        "\n",
        "A:\n",
        "\n",
        "This is a Binomial process. The following is wrong:\n",
        "\n",
        "    - a $p(k_1) = k_1 / n$\n",
        "    - b: standard uncertainty in $k_1$ is: $\\sqrt{p(1-p)n}$.\n",
        "    - c: standard uncertainty in $k_0$ is given by the same expression where $p(k_0)  = k_0 / n$.\n",
        "    - d: standard uncertainty of $r$ is given by:\n",
        "\n",
        "    $$r\\sqrt{(\\sigma_1 / k_1)^2 + (\\sigma_0 / k_0)^2}$$"
      ]
    }
  ]
}